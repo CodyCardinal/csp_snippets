{
 "cells": [
  {
   "cell_type": "markdown",
   "metadata": {},
   "source": [
    "# When a list isn\"t the solution\n",
    "from:  fluent python, 2nd edition on O\"reilly by Luciano Ramalho\n",
    "\n",
    "A python list is flexible and easy to use, but depending on specific requirements, thare are better options.\n",
    "\n",
    "- `array` saves a lot of memory when you need to handle millions of `floating-point` values.\n",
    "- `dequeue` If you are constantly adding and removing items from opposite ends of a list, a `deque` is another list alternative and a more efficient `FIFO` (first in, first out) data structure.\n",
    "- `sets` if code frequently checks if an item is present in a collection, consider using a `set`. set are optimized for faster membership checking, iterable, *but* are not sequences because the ordering is unspecified.\n"
   ]
  },
  {
   "cell_type": "markdown",
   "metadata": {},
   "source": [
    "## Arrays\n",
    "- If a list only contains numbers, an `array.array` is more efficient.\n",
    "- supports `pop`, `insert`, and `extend`.\n",
    "- supports fast loading/saving with `frombytes` and `tofile`\n",
    "- as lean as a `C Array`, similar to an array of `double` from C.\n",
    "- when creating, provide a typecode, a letter to determine underlying C type used to store each item in the array.\n",
    "- Example:  `b` is the typecode for what `C` calls a `signed char` (an integer from -128 to 127).\n",
    "  - if you create an `array(\"b\"), then each item will be stored in a single byte and interpreted as an integer.\n",
    "  - for larger sequences of numbers, this saves a lot of memory.\n",
    "- python will not let you put any number that doesn\"t match the array type into the array."
   ]
  },
  {
   "cell_type": "markdown",
   "metadata": {},
   "source": [
    "- about `0.1` seconds for `array.fromfile` to load 10 million double precision floats from a binary file created with `array.tofile`. \n",
    "- Nearly 60 times faster than reading the numbers from a text file ( which means parsing each line with a `float` built-in)\n",
    "- saving with `array.tofile` is about 7 times faster than writing one float per line in a text file.\n",
    "- the size of the binary file with 10m doubles is `80m bytes`, while a text file is `181m bytes` for the same data.\n",
    "  \n",
    "\n",
    "For the specific case of numeric arrays repping binary data, such as raster images, Python has `bytes` and `bytetoarray`.\n",
    "\n"
   ]
  },
  {
   "cell_type": "markdown",
   "metadata": {},
   "source": [
    "# Hashmaps are Dictionaries\n",
    "- CS50p Lecture 2 Loops\n",
    "when you use a for loop against a dictionary in python,\n",
    "a for loop intially sets student to Hermione\"s name, then next iteration is Harry, then Ron, etc.\n",
    "ather than iterate over the numeric location of an index, it iterates over the keys.\n"
   ]
  },
  {
   "cell_type": "code",
   "execution_count": 7,
   "metadata": {},
   "outputs": [],
   "source": [
    "students = {\n",
    "    \"Hermione\":  \"Gryffindor\",\n",
    "    \"Harry\":  \"Gryffindor\",\n",
    "    \"Ron\":  \"Gryffindor\",\n",
    "    \"Draco\":  \"Slytherin\",\n",
    "}"
   ]
  },
  {
   "cell_type": "code",
   "execution_count": 8,
   "metadata": {},
   "outputs": [
    {
     "name": "stdout",
     "output_type": "stream",
     "text": [
      "Hermione Gryffindor\n",
      "Harry Gryffindor\n",
      "Ron Gryffindor\n",
      "Draco Slytherin\n"
     ]
    }
   ],
   "source": [
    "for student in students: \n",
    "    print(student, students[student]) \n",
    "    # typically just prints key, but the `students[student]` goes to get the value"
   ]
  },
  {
   "cell_type": "markdown",
   "metadata": {},
   "source": []
  },
  {
   "cell_type": "code",
   "execution_count": 9,
   "metadata": {},
   "outputs": [],
   "source": [
    "# A list of dictionaries!\n",
    "studentlist = [\n",
    "    {\"name\":  \"Hermione\", \"house\":  \"Gryffindor\", \"patronus\":  \"Otter\"},\n",
    "    {\"name\":  \"Harry\", \"house\":  \"Gryffindor\", \"patronus\":  \"Stag\"},\n",
    "    {\"name\":  \"Ron\", \"house\":  \"Gryffindor\", \"patronus\":  \"Jack Russel Terrier\"},\n",
    "    {\"name\":  \"Draco\", \"house\":  \"Slytherin\", \"patronus\":  None},\n",
    "]"
   ]
  },
  {
   "cell_type": "code",
   "execution_count": 10,
   "metadata": {},
   "outputs": [
    {
     "name": "stdout",
     "output_type": "stream",
     "text": [
      "Hermione\n",
      "Harry\n",
      "Ron\n",
      "Draco\n"
     ]
    }
   ],
   "source": [
    " for student in studentlist: \n",
    "    print(student[\"name\"])"
   ]
  },
  {
   "cell_type": "code",
   "execution_count": 11,
   "metadata": {},
   "outputs": [
    {
     "name": "stdout",
     "output_type": "stream",
     "text": [
      "Hermione Gryffindor\n",
      "Harry Gryffindor\n",
      "Ron Gryffindor\n",
      "Draco Slytherin\n"
     ]
    }
   ],
   "source": [
    " for student in studentlist: \n",
    "    print(student[\"name\"], student[\"house\"])"
   ]
  },
  {
   "cell_type": "code",
   "execution_count": 12,
   "metadata": {},
   "outputs": [
    {
     "name": "stdout",
     "output_type": "stream",
     "text": [
      "Hermione, Gryffindor\n",
      "Harry, Gryffindor\n",
      "Ron, Gryffindor\n",
      "Draco, Slytherin\n"
     ]
    }
   ],
   "source": [
    " for student in studentlist: \n",
    "    print(student[\"name\"], student[\"house\"], sep=\", \")"
   ]
  },
  {
   "cell_type": "code",
   "execution_count": 13,
   "metadata": {},
   "outputs": [
    {
     "name": "stdout",
     "output_type": "stream",
     "text": [
      "Hermione, Gryffindor, Otter\n",
      "Harry, Gryffindor, Stag\n",
      "Ron, Gryffindor, Jack Russel Terrier\n",
      "Draco, Slytherin, None\n"
     ]
    }
   ],
   "source": [
    " for student in studentlist: \n",
    "    print(student[\"name\"], student[\"house\"], student[\"patronus\"], sep=\", \")"
   ]
  },
  {
   "cell_type": "markdown",
   "metadata": {},
   "source": [
    "what this actually contains is : \n",
    "\n",
    "| | name | house | patronus |\n",
    "| :---- | :----: | :----: | ----: |\n",
    "| 0 | \"Hermione\" | \"Gryffindor\" | \"Otter\" |\n",
    "| 1 | \"Harry\" | \"Gryffindor\" | \"Stag\" |\n",
    "| 1 | \"Ron\" | \"Gryffindor\" | \"Jack Russel Terrier\" |\n",
    "| 4 | \"Draco\" | \"Slytherin\" | None |\n",
    "\n",
    "\n",
    "Python has features to let you `sort` the `dictionary`.\n"
   ]
  },
  {
   "cell_type": "code",
   "execution_count": 14,
   "metadata": {},
   "outputs": [
    {
     "name": "stdout",
     "output_type": "stream",
     "text": [
      "????\n"
     ]
    }
   ],
   "source": [
    "# basic mario brick example ( printing the bricks you see in mario with ?'s on them over text )\n",
    "def main(): \n",
    "    print_row(4)\n",
    "\n",
    "def print_row(width): \n",
    "    print(\"?\" * width)\n",
    "\n",
    "main()"
   ]
  },
  {
   "cell_type": "code",
   "execution_count": 15,
   "metadata": {},
   "outputs": [
    {
     "name": "stdout",
     "output_type": "stream",
     "text": [
      "###\n",
      "\n",
      "###\n",
      "\n",
      "###\n",
      "\n"
     ]
    }
   ],
   "source": [
    "\n",
    "# mario bricks \n",
    "\n",
    "def main(): \n",
    "    print_square(3)\n",
    "\n",
    "def print_square(size): \n",
    "\n",
    "    # for each row in square\n",
    "    for i in range(size): \n",
    "\n",
    "        # for each brick in row ( or column )\n",
    "        for j in range(size): \n",
    "\n",
    "            # print brick\n",
    "            print(\"#\", end=\"\")\n",
    "        # new line after each row\n",
    "        print(\"\\n\")\n",
    "\n",
    "main()"
   ]
  },
  {
   "cell_type": "code",
   "execution_count": 16,
   "metadata": {},
   "outputs": [
    {
     "name": "stdout",
     "output_type": "stream",
     "text": [
      "###\n",
      "\n",
      "\n",
      "###\n",
      "\n",
      "\n",
      "###\n",
      "\n",
      "\n"
     ]
    }
   ],
   "source": [
    "# showing print string multiplication\n",
    "\n",
    "def main(): \n",
    "    print_square(3)\n",
    "\n",
    "def print_square(size): \n",
    "    for i in range(size): \n",
    "        print(\"#\" * size)\n",
    "        print(\"\\n\")\n",
    "\n",
    "main()"
   ]
  },
  {
   "cell_type": "code",
   "execution_count": 17,
   "metadata": {},
   "outputs": [
    {
     "name": "stdout",
     "output_type": "stream",
     "text": [
      "###\n",
      "###\n",
      "###\n"
     ]
    }
   ],
   "source": [
    "# again, with more abstraction\n",
    "\n",
    "def main(): \n",
    "    print_square(3)\n",
    "\n",
    "def print_square(size): \n",
    "    for i in range(size): \n",
    "        print_row(size)\n",
    "\n",
    "def print_row(width): \n",
    "    print(\"#\" * width)\n",
    "\n",
    "main()"
   ]
  },
  {
   "cell_type": "markdown",
   "metadata": {},
   "source": [
    "# continuing in nutrition.py problem"
   ]
  },
  {
   "cell_type": "markdown",
   "metadata": {},
   "source": []
  }
 ],
 "metadata": {
  "kernelspec": {
   "display_name": "Python 3.10.5 64-bit",
   "language": "python",
   "name": "python3"
  },
  "language_info": {
   "codemirror_mode": {
    "name": "ipython",
    "version": 3
   },
   "file_extension": ".py",
   "mimetype": "text/x-python",
   "name": "python",
   "nbconvert_exporter": "python",
   "pygments_lexer": "ipython3",
   "version": "3.10.5"
  },
  "orig_nbformat": 4,
  "vscode": {
   "interpreter": {
    "hash": "d41949fc14307cc6c5ca3f7eeac6e8864c1d41c67ebe37db0d1c61ce8f47d37f"
   }
  }
 },
 "nbformat": 4,
 "nbformat_minor": 2
}
